{
 "cells": [
  {
   "cell_type": "markdown",
   "id": "e84cdeee",
   "metadata": {},
   "source": [
    "1. What is hierarchical clustering?"
   ]
  },
  {
   "cell_type": "markdown",
   "id": "45dd84f2",
   "metadata": {},
   "source": [
    "Ans. Hierarchical clustering is a type of clustering algorithm that builds a hierarchy of clusters. It can be agglomerative (bottom-up) or divisive (top-down)."
   ]
  },
  {
   "cell_type": "markdown",
   "id": "5fb6ddae",
   "metadata": {},
   "source": [
    "2. Which of the following is a linkage criterion used in hierarchical clustering?"
   ]
  },
  {
   "cell_type": "markdown",
   "id": "7dca7d00",
   "metadata": {},
   "source": [
    "Ans. Linkage criteria determine the distance between clusters and impact the structure of the dendrogram in hierarchical clustering. Common linkage criteria include single-linkage, complete-linkage, average-linkage, and ward's method."
   ]
  },
  {
   "cell_type": "markdown",
   "id": "e8fea37e",
   "metadata": {},
   "source": [
    "3. In DBSCAN clustering, what is the meaning of 'epsilon'?"
   ]
  },
  {
   "cell_type": "markdown",
   "id": "b9f71215",
   "metadata": {},
   "source": [
    "Ans. 'Epsilon' is the maximum distance between two data points to be considered as in the same neighborhood. It is a crucial parameter in DBSCAN algorithm."
   ]
  },
  {
   "cell_type": "markdown",
   "id": "29cedc12",
   "metadata": {},
   "source": [
    "4. What does the 'minPts' parameter represent in DBSCAN clustering?"
   ]
  },
  {
   "cell_type": "markdown",
   "id": "7148eea0",
   "metadata": {},
   "source": [
    "Ans. 'minPts' defines the minimum number of data points required to form a dense region in DBSCAN clustering. It influences the differentiation of core, border, and outlier points in the dataset."
   ]
  },
  {
   "cell_type": "markdown",
   "id": "6d767130",
   "metadata": {},
   "source": [
    "5. What is the time complexity of hierarchical clustering?"
   ]
  },
  {
   "cell_type": "markdown",
   "id": "83199729",
   "metadata": {},
   "source": [
    "Ans. The time complexity of hierarchical clustering is generally O(n^3), where n is the number of data points. This makes it computationally expensive for large datasets."
   ]
  },
  {
   "cell_type": "markdown",
   "id": "c0b15670",
   "metadata": {},
   "source": [
    "6. Which of the following is a disadvantage of hierarchical clustering?"
   ]
  },
  {
   "cell_type": "markdown",
   "id": "0e644ddc",
   "metadata": {},
   "source": [
    "Ans. One disadvantage of hierarchical clustering is its computational complexity, especially for large datasets. It also suffers from sensitivity to noise and outliers."
   ]
  },
  {
   "cell_type": "markdown",
   "id": "425d99fe",
   "metadata": {},
   "source": [
    "7. In hierarchical clustering, what do dendrograms represent?"
   ]
  },
  {
   "cell_type": "markdown",
   "id": "fd10158c",
   "metadata": {},
   "source": [
    "Ans. Dendrograms are tree-like diagrams that illustrate the arrangement of the clusters produced by hierarchical clustering. They are useful for understanding the hierarchical relationships among data points."
   ]
  },
  {
   "cell_type": "markdown",
   "id": "cfedac7a",
   "metadata": {},
   "source": [
    "8. Which type of clustering algorithm is DBSCAN?"
   ]
  },
  {
   "cell_type": "markdown",
   "id": "c0df00dc",
   "metadata": {},
   "source": [
    "Ans. DBSCAN is a density-based clustering algorithm that can identify clusters of irregular shapes and is robust to noise and outliers in the data."
   ]
  },
  {
   "cell_type": "markdown",
   "id": "b3f659bc",
   "metadata": {},
   "source": [
    "9. Which of the following is a characteristic of DBSCAN clustering?"
   ]
  },
  {
   "cell_type": "markdown",
   "id": "fc8532bd",
   "metadata": {},
   "source": [
    "Ans. DBSCAN can identify clusters of arbitrary shapes and sizes, making it effective in scenarios where clusters have varying densities and shapes."
   ]
  },
  {
   "cell_type": "markdown",
   "id": "d7e04a9c",
   "metadata": {},
   "source": [
    "10. In DBSCAN clustering, what is a 'core point'?"
   ]
  },
  {
   "cell_type": "markdown",
   "id": "ac7bbcb7",
   "metadata": {},
   "source": [
    "Ans. A 'core point' is a data point that has at least 'minPts' data points within a distance of"
   ]
  },
  {
   "cell_type": "markdown",
   "id": "e2575b75",
   "metadata": {},
   "source": [
    "11. What measure is commonly used to evaluate the quality of clustering in hierarchical clustering?"
   ]
  },
  {
   "cell_type": "markdown",
   "id": "73e2a813",
   "metadata": {},
   "source": [
    "Ans. The most common measure for evaluating the quality of clustering in hierarchical clustering is the cophenetic correlation coefficient, which quantifies how faithfully a dendrogram preserves the pairwise distances between the original data points."
   ]
  },
  {
   "cell_type": "markdown",
   "id": "0e1ae097",
   "metadata": {},
   "source": [
    "12. Which of the following distance measures is commonly used in hierarchical clustering?"
   ]
  },
  {
   "cell_type": "markdown",
   "id": "d983d5db",
   "metadata": {},
   "source": [
    "Ans. In hierarchical clustering, commonly used distance measures include Euclidean distance, Manhattan distance, and Mahalanobis distance, among others."
   ]
  },
  {
   "cell_type": "markdown",
   "id": "aa168c80",
   "metadata": {},
   "source": [
    "13. What is the main advantage of hierarchical clustering over k-means clustering?"
   ]
  },
  {
   "cell_type": "markdown",
   "id": "290572aa",
   "metadata": {},
   "source": [
    "Ans. One of the main advantages of hierarchical clustering over k-means clustering is that it does not require the number of clusters to be specified a priori, allowing for a more exploratory data analysis approach."
   ]
  },
  {
   "cell_type": "markdown",
   "id": "075e5bf3",
   "metadata": {},
   "source": [
    "14. In DBSCAN clustering, what is the purpose of the 'eps-neighborhood' of a point?"
   ]
  },
  {
   "cell_type": "markdown",
   "id": "e638a3e2",
   "metadata": {},
   "source": [
    "Ans. The 'eps-neighborhood' of a point includes all points within a distance of 'epsilon' from the given point. It is used to identify core points and expand clusters in DBSCAN."
   ]
  }
 ],
 "metadata": {
  "kernelspec": {
   "display_name": "Python 3 (ipykernel)",
   "language": "python",
   "name": "python3"
  },
  "language_info": {
   "codemirror_mode": {
    "name": "ipython",
    "version": 3
   },
   "file_extension": ".py",
   "mimetype": "text/x-python",
   "name": "python",
   "nbconvert_exporter": "python",
   "pygments_lexer": "ipython3",
   "version": "3.9.12"
  }
 },
 "nbformat": 4,
 "nbformat_minor": 5
}
