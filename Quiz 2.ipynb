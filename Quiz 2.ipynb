{
 "cells": [
  {
   "cell_type": "markdown",
   "id": "24f6659a",
   "metadata": {},
   "source": [
    "1. What is the mean of the numbers 2, 4, 6, 8, and 10?"
   ]
  },
  {
   "cell_type": "markdown",
   "id": "72db0653",
   "metadata": {},
   "source": [
    "Ans. The mean is calculated by adding up all the numbers and then dividing by the total count. In this case, (2+4+6+8+10)/5 = 6."
   ]
  },
  {
   "cell_type": "markdown",
   "id": "5ccc15b7",
   "metadata": {},
   "source": [
    "2. What is the formula to calculate standard deviation for a population?"
   ]
  },
  {
   "cell_type": "markdown",
   "id": "c2eb0bfe",
   "metadata": {},
   "source": [
    "Ans. The formula for population standard deviation is the square root of the sum of the squared differences between each data point and the population mean, divided by the total count of the population data points."
   ]
  },
  {
   "cell_type": "markdown",
   "id": "2c49fa9c",
   "metadata": {},
   "source": [
    "3. In statistics, what does 'p-value' represent?"
   ]
  },
  {
   "cell_type": "markdown",
   "id": "92208a57",
   "metadata": {},
   "source": [
    "Ans. The p-value is the probability of obtaining test results at least as extreme as the ones observed during the test, assuming that the null hypothesis is true."
   ]
  },
  {
   "cell_type": "markdown",
   "id": "5c568755",
   "metadata": {},
   "source": [
    "4. Which of the following is a measure of central tendency?"
   ]
  },
  {
   "cell_type": "markdown",
   "id": "eade6fa8",
   "metadata": {},
   "source": [
    "Ans. Standard deviation measures the dispersion of the data, while mean, median, and mode are measures of central tendency."
   ]
  },
  {
   "cell_type": "markdown",
   "id": "7951fca4",
   "metadata": {},
   "source": [
    "5. What is the median of the following set of numbers: 3, 4, 5, 7, 8, 9, 11?"
   ]
  },
  {
   "cell_type": "markdown",
   "id": "ab0dffd8",
   "metadata": {},
   "source": [
    "Ans. The median is the middle value when the data is arranged in ascending order. In this case, the median is 7."
   ]
  },
  {
   "cell_type": "markdown",
   "id": "dbefe513",
   "metadata": {},
   "source": [
    "6. In statistical hypothesis testing, what does Type I error refer to?"
   ]
  },
  {
   "cell_type": "markdown",
   "id": "c1437159",
   "metadata": {},
   "source": [
    "Ans. A Type I error occurs when the null hypothesis is rejected when it is actually true, indicating that the test results incorrectly lead to the conclusion that a condition is present."
   ]
  },
  {
   "cell_type": "markdown",
   "id": "7c61f5aa",
   "metadata": {},
   "source": [
    "7. Which probability distribution represents the number of successes in a fixed number of Bernoulli trials with a constant probability of success?"
   ]
  },
  {
   "cell_type": "markdown",
   "id": "3fedb482",
   "metadata": {},
   "source": [
    "Ans. The binomial distribution is used to model the number of successful outcomes in a fixed number of independent trials, each with the same probability of success."
   ]
  },
  {
   "cell_type": "markdown",
   "id": "2dfe41c2",
   "metadata": {},
   "source": [
    "8. In statistical terms, what does 'skewness' refer to?"
   ]
  },
  {
   "cell_type": "markdown",
   "id": "57e242ef",
   "metadata": {},
   "source": [
    "Ans. Skewness is a measure of the asymmetry of the probability distribution of a real-valued random variable about its mean."
   ]
  },
  {
   "cell_type": "markdown",
   "id": "08b56c95",
   "metadata": {},
   "source": [
    "9. Which measure of central tendency is affected most by extreme values?"
   ]
  },
  {
   "cell_type": "markdown",
   "id": "95b36541",
   "metadata": {},
   "source": [
    "Ans. The mean is greatly affected by extreme values, or outliers, as it takes into account the value of each data point in the dataset."
   ]
  },
  {
   "cell_type": "markdown",
   "id": "b3da2387",
   "metadata": {},
   "source": [
    "10. What is the range of the following numbers: 7, 13, 4, 21, 9, 15, 8, 24?"
   ]
  },
  {
   "cell_type": "markdown",
   "id": "3b12450e",
   "metadata": {},
   "source": [
    "Ans. The range is the difference between the largest and smallest values in a dataset. In this case, the range is 24 - 4 = 20."
   ]
  },
  {
   "cell_type": "markdown",
   "id": "087cc110",
   "metadata": {},
   "source": [
    "11. In statistics, which of the following best describes 'kurtosis'?"
   ]
  },
  {
   "cell_type": "markdown",
   "id": "09ef86ca",
   "metadata": {},
   "source": [
    "Ans. Kurtosis measures the tailedness or peakedness of a probability distribution compared to the normal distribution."
   ]
  },
  {
   "cell_type": "markdown",
   "id": "7033ca31",
   "metadata": {},
   "source": [
    "12. What is the coefficient of variation (CV) used for in statistics?"
   ]
  },
  {
   "cell_type": "markdown",
   "id": "675700dc",
   "metadata": {},
   "source": [
    "Ans. The coefficient of variation is a measure used to compare the variability of different sets of data, especially when the means are different."
   ]
  },
  {
   "cell_type": "markdown",
   "id": "22c04d23",
   "metadata": {},
   "source": [
    "13. What does the term 'confidence interval' represent in statistics?"
   ]
  },
  {
   "cell_type": "markdown",
   "id": "9ce8f74a",
   "metadata": {},
   "source": [
    "Ans. A confidence interval provides an estimated range of values which is likely to include an unknown population parameter, with a certain degree of confidence."
   ]
  },
  {
   "cell_type": "markdown",
   "id": "73565daa",
   "metadata": {},
   "source": [
    "14. What is the purpose of a Q-Q plot in statistics?"
   ]
  },
  {
   "cell_type": "markdown",
   "id": "ad7509ef",
   "metadata": {},
   "source": [
    "Ans. A Q-Q plot is used to compare the distribution of a sample to a theoretical distribution, such as a normal distribution, enabling visual assessment of the data's distribution."
   ]
  },
  {
   "cell_type": "code",
   "execution_count": null,
   "id": "cd2d1347",
   "metadata": {},
   "outputs": [],
   "source": []
  }
 ],
 "metadata": {
  "kernelspec": {
   "display_name": "Python 3 (ipykernel)",
   "language": "python",
   "name": "python3"
  },
  "language_info": {
   "codemirror_mode": {
    "name": "ipython",
    "version": 3
   },
   "file_extension": ".py",
   "mimetype": "text/x-python",
   "name": "python",
   "nbconvert_exporter": "python",
   "pygments_lexer": "ipython3",
   "version": "3.9.12"
  }
 },
 "nbformat": 4,
 "nbformat_minor": 5
}
