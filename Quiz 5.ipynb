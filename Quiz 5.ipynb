{
 "cells": [
  {
   "cell_type": "markdown",
   "id": "a24fadb2",
   "metadata": {},
   "source": [
    "1. What is the main purpose of using a kernel in SVM?"
   ]
  },
  {
   "cell_type": "markdown",
   "id": "4bbcf541",
   "metadata": {},
   "source": [
    "Ans. The main purpose of using a kernel in SVM is to transform the input data into a higher dimensional space, making it easier to find a hyperplane that separates the data points with maximum margin."
   ]
  },
  {
   "cell_type": "markdown",
   "id": "95904438",
   "metadata": {},
   "source": [
    "2. What does PCA stand for in the context of machine learning?"
   ]
  },
  {
   "cell_type": "markdown",
   "id": "7b57bb9a",
   "metadata": {},
   "source": [
    "Ans. PCA stands for Principal Component Analysis. It is a statistical method used to reduce the dimensionality of the data by transforming it into a new coordinate system, where the largest variance lies along the first coordinate, then the second largest variance along the second coordinate, and so on."
   ]
  },
  {
   "cell_type": "markdown",
   "id": "b2c841ca",
   "metadata": {},
   "source": [
    "3. In SVM, which kernel function is primarily used for linearly separable data?"
   ]
  },
  {
   "cell_type": "markdown",
   "id": "480f3792",
   "metadata": {},
   "source": [
    "Ans. For linearly separable data, the linear kernel function is primarily used in SVM. It computes the inner product of the feature vectors, allowing SVM to find the optimal hyperplane that separates the data points."
   ]
  },
  {
   "cell_type": "markdown",
   "id": "23c61849",
   "metadata": {},
   "source": [
    "4. Which of the following is NOT a benefit of using PCA in machine learning?"
   ]
  },
  {
   "cell_type": "markdown",
   "id": "2b474ef1",
   "metadata": {},
   "source": [
    "Ans. While PCA has many benefits, it does not provide better accuracy in all cases. Its main benefits include dimensionality reduction, visualization of data, and removing multicollinearity, but it does not always guarantee improved accuracy."
   ]
  },
  {
   "cell_type": "markdown",
   "id": "a252dab8",
   "metadata": {},
   "source": [
    "5. Which of the following best describes the ROC curve?"
   ]
  },
  {
   "cell_type": "markdown",
   "id": "ec9b7ced",
   "metadata": {},
   "source": [
    "Ans. The ROC curve is a graphical representation of the true positive rate against the false positive rate at various threshold settings. It is used to evaluate the performance of a classification model, particularly in binary classification problems."
   ]
  },
  {
   "cell_type": "markdown",
   "id": "be4cf055",
   "metadata": {},
   "source": [
    "6. What does the area under the ROC curve (AUC) indicate about a model's performance?"
   ]
  },
  {
   "cell_type": "markdown",
   "id": "0a7f7ec8",
   "metadata": {},
   "source": [
    "Ans. The AUC represents the probability that the model will rank a randomly chosen positive example higher than a randomly chosen negative example. A higher AUC value indicates better overall performance of the model in terms of distinguishing between positive and negative class instances."
   ]
  },
  {
   "cell_type": "markdown",
   "id": "c5b69528",
   "metadata": {},
   "source": [
    "7. In SVM, which kernel function is known for its ability to handle non-linear data effectively?"
   ]
  },
  {
   "cell_type": "markdown",
   "id": "eda1327f",
   "metadata": {},
   "source": [
    "Ans. The Radial basis function (RBF) kernel is known for its ability to handle non-linear data effectively. It allows SVM to map the input data to an infinite-dimensional space, making it capable of capturing complex decision boundaries."
   ]
  },
  {
   "cell_type": "markdown",
   "id": "b77a5374",
   "metadata": {},
   "source": [
    "8. What is the primary aim of using PCA in machine learning?"
   ]
  },
  {
   "cell_type": "markdown",
   "id": "6474b044",
   "metadata": {},
   "source": [
    "Ans. The primary aim of using PCA in machine learning is to reduce the dimensionality of the data while preserving the maximum variance present in the data. This helps in reducing computation time and overfitting, and aids in visualization and interpretation of the data."
   ]
  },
  {
   "cell_type": "markdown",
   "id": "8e40b427",
   "metadata": {},
   "source": [
    "When using PCA, what does the first principal component represent?9. "
   ]
  },
  {
   "cell_type": "markdown",
   "id": "d4aff6fa",
   "metadata": {},
   "source": [
    "Ans. The first principal component represents the direction in the data that captures the most variance. It is a linear combination of the original features that maximizes the variance along that direction."
   ]
  },
  {
   "cell_type": "markdown",
   "id": "9956bd00",
   "metadata": {},
   "source": [
    "10. In SVM, which kernel function is suitable for handling text data and categorical features?"
   ]
  },
  {
   "cell_type": "markdown",
   "id": "b97f2a94",
   "metadata": {},
   "source": [
    "Ans. The Sigmoid kernel function is suitable for handling text data and categorical features in SVM. It can be used to model non-linear decision boundaries when dealing with such types of data."
   ]
  },
  {
   "cell_type": "markdown",
   "id": "03269912",
   "metadata": {},
   "source": [
    "11. Which of the following statements is true about the ROC curve?"
   ]
  },
  {
   "cell_type": "markdown",
   "id": "b50bd4f7",
   "metadata": {},
   "source": [
    "Ans. The ROC curve is a graphical representation of the trade-off between sensitivity (true positive rate) and specificity (true negative rate) across different threshold values. It helps in assessing the performance of a classification model in various scenarios."
   ]
  },
  {
   "cell_type": "markdown",
   "id": "1fc8b9ae",
   "metadata": {},
   "source": [
    "12. How does the choice of the kernel function impact the decision boundary in an SVM?"
   ]
  },
  {
   "cell_type": "markdown",
   "id": "ae1816fe",
   "metadata": {},
   "source": [
    "Ans. The choice of the kernel function determines the shape and complexity of the decision boundary in an SVM. Different kernel functions can create linear or non-linear decision boundaries, allowing the model to capture various patterns in the data."
   ]
  }
 ],
 "metadata": {
  "kernelspec": {
   "display_name": "Python 3 (ipykernel)",
   "language": "python",
   "name": "python3"
  },
  "language_info": {
   "codemirror_mode": {
    "name": "ipython",
    "version": 3
   },
   "file_extension": ".py",
   "mimetype": "text/x-python",
   "name": "python",
   "nbconvert_exporter": "python",
   "pygments_lexer": "ipython3",
   "version": "3.9.12"
  }
 },
 "nbformat": 4,
 "nbformat_minor": 5
}
